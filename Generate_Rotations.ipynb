{
 "cells": [
  {
   "cell_type": "code",
   "execution_count": 1,
   "id": "42004531-19be-48d6-a65b-b432a2ceed18",
   "metadata": {},
   "outputs": [],
   "source": [
    "from EMAN2 import EMData, Transform\n",
    "import random"
   ]
  },
  {
   "cell_type": "code",
   "execution_count": 58,
   "id": "77194a8c-41bf-490e-a82e-d967519e029f",
   "metadata": {},
   "outputs": [],
   "source": [
    "def rotate_volume(input_path, output_base, num_images):\n",
    "    # Load the original volume\n",
    "    original_volume = EMData(input_path, 0)\n",
    "    \n",
    "\n",
    "    for i in range(num_images):\n",
    "        # Generate random rotation angles\n",
    "        az = random.uniform(0,360)\n",
    "        alt = random.uniform(0,360)\n",
    "        phi = random.uniform(0,360)\n",
    "        \n",
    "        # Create a Transform object with the rotation parameters\n",
    "        transform = Transform({\"type\": \"eman\", \"az\": az, \"alt\": alt, \"phi\": phi})\n",
    "        \n",
    "        # Rotate the volume\n",
    "        rotated_volume = original_volume.copy()\n",
    "        rotated_volume.transform(transform)\n",
    "        \n",
    "        # Define the output file name for this iteration\n",
    "        output_file = f\"{output_base}_{i+1}.mrc\"\n",
    "        \n",
    "        # Save the rotated volume\n",
    "        rotated_volume.write_image(output_file)\n",
    "        \n",
    "        print(f\"Generated {output_file} with rotation angles az={az}, alt={alt}, phi={phi}\")"
   ]
  },
  {
   "cell_type": "code",
   "execution_count": 59,
   "id": "3576f196-8a47-4ae6-b381-a478d9896a7c",
   "metadata": {},
   "outputs": [
    {
     "name": "stdout",
     "output_type": "stream",
     "text": [
      "Generated 4xcd_rotated_1.mrc with rotation angles az=69.2181095657714, alt=177.08173050681154, phi=49.32241969543634\n",
      "Generated 4xcd_rotated_2.mrc with rotation angles az=159.55402170396346, alt=200.70502345098961, phi=298.39421945782806\n",
      "Generated 4xcd_rotated_3.mrc with rotation angles az=46.94735343302821, alt=72.37536097079442, phi=284.63825710394065\n",
      "Generated 4xcd_rotated_4.mrc with rotation angles az=9.007423416317181, alt=240.98548043522416, phi=220.48361995425907\n",
      "Generated 4xcd_rotated_5.mrc with rotation angles az=168.39589345190424, alt=260.57259064308124, phi=286.6139596690964\n"
     ]
    }
   ],
   "source": [
    "input_file = \"4xcd.mrc\"\n",
    "output_base = \"4xcd_rotated\"\n",
    "num_images = 5\n",
    "\n",
    "rotate_volume(input_file, output_base, num_images)"
   ]
  },
  {
   "cell_type": "code",
   "execution_count": 60,
   "id": "41816396-6316-4b91-a640-fe84e8f7d7df",
   "metadata": {},
   "outputs": [],
   "source": [
    "import mrcfile\n",
    "import numpy as np"
   ]
  },
  {
   "cell_type": "code",
   "execution_count": 61,
   "id": "bb599cfb-f3d1-4959-8974-3c1fd417545b",
   "metadata": {},
   "outputs": [
    {
     "data": {
      "text/plain": [
       "4.8710933"
      ]
     },
     "execution_count": 61,
     "metadata": {},
     "output_type": "execute_result"
    }
   ],
   "source": [
    "with mrcfile.open(\"4xcd.mrc\") as mrc:\n",
    "    arr = mrc.data\n",
    "V_water = arr[0,0,0]\n",
    "V_water"
   ]
  },
  {
   "cell_type": "code",
   "execution_count": 62,
   "id": "0c310093-8dc7-4985-9297-1d22fb2a6f57",
   "metadata": {},
   "outputs": [],
   "source": [
    "\n",
    "for i in range(num_images):\n",
    "    with mrcfile.open(f\"4xcd_rotated_{i+1}.mrc\", \"r+\") as mrc:\n",
    "        arr = mrc.data\n",
    "        arr[arr==0] = V_water\n",
    "        mrc.set_data(arr)\n"
   ]
  },
  {
   "cell_type": "code",
   "execution_count": null,
   "id": "25732117-0193-4235-82f0-1fba6532341e",
   "metadata": {},
   "outputs": [],
   "source": []
  }
 ],
 "metadata": {
  "kernelspec": {
   "display_name": "Python 3 (ipykernel)",
   "language": "python",
   "name": "python3"
  },
  "language_info": {
   "codemirror_mode": {
    "name": "ipython",
    "version": 3
   },
   "file_extension": ".py",
   "mimetype": "text/x-python",
   "name": "python",
   "nbconvert_exporter": "python",
   "pygments_lexer": "ipython3",
   "version": "3.9.16"
  }
 },
 "nbformat": 4,
 "nbformat_minor": 5
}
