{
 "cells": [
  {
   "cell_type": "code",
   "execution_count": 1,
   "id": "3f6e745f-be92-48f3-a78d-f7f0b4f666b6",
   "metadata": {},
   "outputs": [],
   "source": [
    "from EMAN2 import EMData\n",
    "import os"
   ]
  },
  {
   "cell_type": "code",
   "execution_count": 2,
   "id": "a2f1cbdd-eb8c-4a4c-b809-8feea4dbf47b",
   "metadata": {},
   "outputs": [],
   "source": [
    "# Set the current working directory as the input directory\n",
    "input_dir = os.getcwd()\n",
    "# Set the output directory within the current working directory\n",
    "output_dir = os.path.join(os.getcwd(), 'images_with_noise')\n",
    "\n",
    "# Make sure the output directory exists\n",
    "os.makedirs(output_dir, exist_ok=True)\n",
    "\n",
    "# List all .hdf files in the input directory\n",
    "files = [f for f in os.listdir(input_dir) if f.endswith('.hdf')]"
   ]
  },
  {
   "cell_type": "code",
   "execution_count": 3,
   "id": "f9f14d22-096d-4e18-ba91-4e6bb3ad9b9c",
   "metadata": {},
   "outputs": [],
   "source": [
    "for file in files:\n",
    "    img_path = os.path.join(input_dir, file)\n",
    "    img = EMData(img_path, 0)\n",
    "    \n",
    "    # Generate 20 noisy versions of each file\n",
    "    for i in range(20):\n",
    "        noisy_img = img.copy()\n",
    "\n",
    "        # Corrected to use \"noise\" instead of \"sigma\" for the standard deviation parameter\n",
    "        noisy_img.process_inplace(\"math.addsignoise\", {\"noise\":0.2})\n",
    "        \n",
    "        output_filename = f\"{file.replace('.hdf', '')}_noise_{i+1}.hdf\"\n",
    "        output_path = os.path.join(output_dir, output_filename)\n",
    "        noisy_img.write_image(output_path)"
   ]
  },
  {
   "cell_type": "code",
   "execution_count": null,
   "id": "13f0b12e-c1e9-4cd3-af55-55c7c7fd76f5",
   "metadata": {},
   "outputs": [],
   "source": []
  }
 ],
 "metadata": {
  "kernelspec": {
   "display_name": "Python 3 (ipykernel)",
   "language": "python",
   "name": "python3"
  },
  "language_info": {
   "codemirror_mode": {
    "name": "ipython",
    "version": 3
   },
   "file_extension": ".py",
   "mimetype": "text/x-python",
   "name": "python",
   "nbconvert_exporter": "python",
   "pygments_lexer": "ipython3",
   "version": "3.9.16"
  }
 },
 "nbformat": 4,
 "nbformat_minor": 5
}
